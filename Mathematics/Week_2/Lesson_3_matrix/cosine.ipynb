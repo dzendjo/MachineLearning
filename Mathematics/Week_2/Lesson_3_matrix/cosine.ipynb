{
 "cells": [
  {
   "cell_type": "code",
   "execution_count": 1,
   "metadata": {},
   "outputs": [],
   "source": [
    "import numpy as np\n",
    "from scipy.spatial.distance import cosine\n",
    "import re"
   ]
  },
  {
   "cell_type": "code",
   "execution_count": 7,
   "metadata": {},
   "outputs": [
    {
     "name": "stdout",
     "output_type": "stream",
     "text": [
      "{'according': 0, 'of': 1, 'type': 2, 'terms': 3, 'linux': 4, 'domestic': 5, 'features': 6, 'started': 7, 'installation': 8, 'wild': 9, 'deliberately': 10, 'from': 11, 'os': 12, 'redirection': 13, 'new': 14, 'which': 15, 'releases': 16, 'learned': 17, 'july': 18, 'on': 19, 'computers': 20, 'has': 21, 'diploid': 22, 'both': 23, 'interactive': 24, 'a': 25, 'those': 26, 'vermin': 27, 'incremental': 28, 'year': 29, 'undergone': 30, 'concatenate': 31, 'upgrade': 32, 'closest': 33, 'domestication': 34, 'delete': 35, 'often': 36, 'information': 37, 'as': 38, 'pipes': 39, 'and': 40, 'comparison': 41, 'every': 42, 'safer': 43, 'recent': 44, 'organisms': 45, 'allows': 46, 'basic': 47, 'running': 48, 'fifth': 49, 'online': 50, 'arguments': 51, 'factory': 52, 'receives': 53, 'installs': 54, 'frequency': 55, 'available': 56, 'two': 57, 'mountain': 58, 'sequence': 59, 'time': 60, 'hear': 61, 'its': 62, 'intel': 63, 'than': 64, 'command': 65, 'content': 66, 'size': 67, 'kg': 68, 'download': 69, 'high': 70, 'non': 71, 'app': 72, 'so': 73, 'external': 74, 'lb': 75, 'more': 76, 'use': 77, 'cat': 78, 'separate': 79, 'during': 80, 'count': 81, 'may': 82, 'faint': 83, 'typically': 84, 'symbol': 85, 'processors': 86, 'common': 87, 'part': 88, 'tamed': 89, 'genus': 90, 'between': 91, 'x': 92, 'too': 93, 'need': 94, 'bytes': 95, 'is': 96, 'right': 97, 'similar': 98, 'mid': 99, 'lion': 100, 'useful': 101, 'read': 102, 'default': 103, 'versions': 104, 't': 105, 'were': 106, 'left': 107, 'needing': 108, 'entirely': 109, 'update': 110, 'without': 111, 'also': 112, 'flow': 113, 'won': 114, 'displays': 115, 'moved': 116, 'wrong': 117, 'store': 118, 'redirected': 119, 'that': 120, 'three': 121, 'tiger': 122, 'contains': 123, 'it': 124, 'major': 125, 'an': 126, 'mavericks': 127, 'predators': 128, 'enhancements': 129, 'be': 130, 'yosemite': 131, 'the': 132, 'used': 133, 'switch': 134, 'to': 135, 'possess': 136, 'apple': 137, 'purchase': 138, 'roughly': 139, 'other': 140, 'osx': 141, 'successor': 142, 'october': 143, 'firmware': 144, 'permanently': 145, 'run': 146, 'just': 147, 'mac': 148, 'not': 149, 'small': 150, 'for': 151, 'animals': 152, 'process': 153, 'however': 154, 'unnecessary': 155, 'concern': 156, 'by': 157, 'legibility': 158, 'disk': 159, 'domesticated': 160, 'one': 161, 'are': 162, 'marks': 163, 'through': 164, 'ears': 165, 'was': 166, 'longer': 167, 'files': 168, 'with': 169, 'release': 170, 'dogs': 171, 'binary': 172, 'human': 173, 'changes': 174, 'simply': 175, 'off': 176, 'received': 177, 'felis': 178, 'drive': 179, 's': 180, 'such': 181, 'any': 182, 'members': 183, 'when': 184, 'installed': 185, 'piped': 186, 'mice': 187, 'second': 188, 'symbols': 189, 'lines': 190, 'single': 191, 'artificial': 192, 'ancestor': 193, 'leopard': 194, 'or': 195, 'releasing': 196, 'released': 197, 'catenates': 198, 'standard': 199, 'can': 200, 'allow': 201, 'where': 202, 'unix': 203, 'chromosomes': 204, 'if': 205, 'commands': 206, 'most': 207, 'keyboards': 208, 'create': 209, 'rather': 210, 'their': 211, 'selection': 212, 'instead': 213, 'connected': 214, 'using': 215, 'they': 216, 'starting': 217, 'stdout': 218, 'version': 219, 'have': 220, 'cats': 221, 'place': 222, 'offered': 223, 'over': 224, 'weighing': 225, 'stdin': 226, 'streams': 227, 'will': 228, 'file': 229, 'genes': 230, 'clear': 231, 'later': 232, 'patch': 233, 'people': 234, 'world': 235, 'now': 236, 'since': 237, 'made': 238, 'community': 239, 'some': 240, 'sounds': 241, 'predecessor': 242, 'developed': 243, 'named': 244, 'you': 245, 'editions': 246, 'in': 247, 'error': 248, 'output': 249, 'based': 250, 'safari': 251, 'adjacent': 252, 'no': 253} 254\n"
     ]
    }
   ],
   "source": [
    "with open('sentences.txt', 'r') as f:\n",
    "    data = f.readlines()\n",
    "    lines = []\n",
    "    all_words = set()\n",
    "    dict_all_words = {}\n",
    "    for line in data:\n",
    "        words = re.split('[^a-z]', line.lower())\n",
    "        words = [word for word in words if word]\n",
    "        lines.append(words)\n",
    "        for word in words:\n",
    "            if word not in all_words:\n",
    "                all_words.add(word)\n",
    "        \n",
    "    i = -1\n",
    "    for word in all_words:\n",
    "        i += 1\n",
    "        dict_all_words[word] = i\n",
    "\n",
    "    print(dict_all_words, len(dict_all_words))"
   ]
  },
  {
   "cell_type": "code",
   "execution_count": 8,
   "metadata": {
    "scrolled": true
   },
   "outputs": [
    {
     "name": "stdout",
     "output_type": "stream",
     "text": [
      "{'in': 1, 'comparison': 1, 'to': 1, 'dogs': 1, 'cats': 1, 'have': 1, 'not': 1, 'undergone': 1, 'major': 1, 'changes': 1, 'during': 1, 'the': 1, 'domestication': 1, 'process': 1}\n"
     ]
    }
   ],
   "source": [
    "# Формируем структуру для каждого предложения\n",
    "def count_words(list_with_words):\n",
    "    res_dict = {}\n",
    "    for word in list_with_words:\n",
    "        if word not in res_dict:\n",
    "            res_dict[word] = 1\n",
    "        else:\n",
    "            res_dict[word] = int(res_dict[word]) + 1\n",
    "    return res_dict\n",
    "print(count_words(lines[0]))"
   ]
  },
  {
   "cell_type": "code",
   "execution_count": 25,
   "metadata": {},
   "outputs": [],
   "source": [
    "import scipy"
   ]
  },
  {
   "cell_type": "code",
   "execution_count": 16,
   "metadata": {},
   "outputs": [
    {
     "name": "stdout",
     "output_type": "stream",
     "text": [
      "[0, 0, 0, 0, 0, 0, 0, 0, 0, 0, 0, 0, 0, 0, 0, 0, 0, 0, 0, 0, 0, 0, 0, 0, 0, 0, 0, 0, 0, 0, 1, 0, 0, 0, 1, 0, 0, 0, 0, 0, 0, 1, 0, 0, 0, 0, 0, 0, 0, 0, 0, 0, 0, 0, 0, 0, 0, 0, 0, 0, 0, 0, 0, 0, 0, 0, 0, 0, 0, 0, 0, 0, 0, 0, 0, 0, 0, 0, 0, 0, 1, 0, 0, 0, 0, 0, 0, 0, 0, 0, 0, 0, 0, 0, 0, 0, 0, 0, 0, 0, 0, 0, 0, 0, 0, 0, 0, 0, 0, 0, 0, 0, 0, 0, 0, 0, 0, 0, 0, 0, 0, 0, 0, 0, 0, 1, 0, 0, 0, 0, 0, 0, 1, 0, 0, 1, 0, 0, 0, 0, 0, 0, 0, 0, 0, 0, 0, 0, 0, 1, 0, 0, 0, 1, 0, 0, 0, 0, 0, 0, 0, 0, 0, 0, 0, 0, 0, 0, 0, 0, 0, 1, 0, 0, 1, 0, 0, 0, 0, 0, 0, 0, 0, 0, 0, 0, 0, 0, 0, 0, 0, 0, 0, 0, 0, 0, 0, 0, 0, 0, 0, 0, 0, 0, 0, 0, 0, 0, 0, 0, 0, 0, 0, 0, 0, 0, 0, 0, 0, 0, 1, 1, 0, 0, 0, 0, 0, 0, 0, 0, 0, 0, 0, 0, 0, 0, 0, 0, 0, 0, 0, 0, 0, 0, 0, 0, 0, 1, 0, 0, 0, 0, 0, 0]\n",
      "['in', 'comparison', 'to', 'dogs', 'cats', 'have', 'not', 'undergone', 'major', 'changes', 'during', 'the', 'domestication', 'process']\n",
      "247\n"
     ]
    }
   ],
   "source": [
    "def create_vector(list_with_words):\n",
    "    dict_with_words = count_words(list_with_words)\n",
    "    res_vector = [0] * len(dict_all_words)\n",
    "    \n",
    "    for word in dict_with_words.keys():\n",
    "        res_vector[dict_all_words[word]] = dict_with_words[word]\n",
    "            \n",
    "        \n",
    "    return res_vector\n",
    "print(create_vector(lines[0]))\n",
    "print(lines[0])\n",
    "print(dict_all_words['in'])"
   ]
  },
  {
   "cell_type": "code",
   "execution_count": 21,
   "metadata": {},
   "outputs": [],
   "source": [
    "matrix = np.array([create_vector(vector) for vector in lines])"
   ]
  },
  {
   "cell_type": "code",
   "execution_count": 24,
   "metadata": {},
   "outputs": [
    {
     "data": {
      "text/plain": [
       "(22, 254)"
      ]
     },
     "execution_count": 24,
     "metadata": {},
     "output_type": "execute_result"
    }
   ],
   "source": [
    "matrix.shape"
   ]
  },
  {
   "cell_type": "code",
   "execution_count": 53,
   "metadata": {},
   "outputs": [
    {
     "name": "stdout",
     "output_type": "stream",
     "text": [
      "{1: 0.9527544408738466, 2: 0.8644738145642124, 3: 0.8951715163278082, 4: 0.7770887149698589, 5: 0.9402385695332803, 6: 0.7327387580875756, 7: 0.9258750683338899, 8: 0.8842724875284311, 9: 0.9055088817476932, 10: 0.8328165362273942, 11: 0.8804771390665607, 12: 0.8396432548525454, 13: 0.8703592552895671, 14: 0.8740118423302576, 15: 0.9442721787424647, 16: 0.8406361854220809, 17: 0.956644501523794, 18: 0.9442721787424647, 19: 0.8885443574849294, 20: 0.8427572744917122, 21: 0.8250364469440588}\n",
      "0.7327387580875756\n",
      "6\n",
      "0.7770887149698589\n",
      "4\n"
     ]
    }
   ],
   "source": [
    "def get_key(dictionary, value):\n",
    "    for key in dictionary:\n",
    "        if dictionary[key] == value:\n",
    "            return key\n",
    "    return None\n",
    "    \n",
    "\n",
    "dict_distansces = {}\n",
    "for i in range(1, 22):\n",
    "    dist = scipy.spatial.distance.cosine(matrix[0, :], matrix[i, :])\n",
    "    dict_distansces[i] = dist\n",
    "first_min = min(dict_distansces.values())\n",
    "first_min_key = get_key(dict_distansces, first_min)\n",
    "\n",
    "print(dict_distansces)\n",
    "print(first_min)\n",
    "print(first_min_key)\n",
    "\n",
    "del dict_distansces[key]\n",
    "\n",
    "second_min = min(dict_distansces.values())\n",
    "second_min_key = get_key(dict_distansces, second_min)\n",
    "\n",
    "print(second_min)\n",
    "print(second_min_key)"
   ]
  },
  {
   "cell_type": "code",
   "execution_count": 55,
   "metadata": {},
   "outputs": [
    {
     "name": "stdout",
     "output_type": "stream",
     "text": [
      "0.7327387580875756\n"
     ]
    }
   ],
   "source": [
    "dist = scipy.spatial.distance.cosine(matrix[0, :], matrix[6, :])\n",
    "print(dist)"
   ]
  },
  {
   "cell_type": "code",
   "execution_count": null,
   "metadata": {},
   "outputs": [],
   "source": []
  }
 ],
 "metadata": {
  "kernelspec": {
   "display_name": "Python 3",
   "language": "python",
   "name": "python3"
  },
  "language_info": {
   "codemirror_mode": {
    "name": "ipython",
    "version": 3
   },
   "file_extension": ".py",
   "mimetype": "text/x-python",
   "name": "python",
   "nbconvert_exporter": "python",
   "pygments_lexer": "ipython3",
   "version": "3.6.5"
  }
 },
 "nbformat": 4,
 "nbformat_minor": 2
}
